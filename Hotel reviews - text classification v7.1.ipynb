{
 "cells": [
  {
   "cell_type": "markdown",
   "metadata": {},
   "source": [
    "# Hotel reviews - text classification\n",
    "\n",
    "Goal of this project is to build classifier which would tell if hotel is recommended to stay in or not based on review text. \n",
    "\n",
    "Every hotel is given review (text) and rating either on scale 1 to 5 or 1 to 10 and so it was required to harmonize scales to single one. 1 to 5 was chosen. If hotel get score 4 or 5 it is recommended for booking, otherwise not.\n",
    "\n",
    "Training dataset contains information about hotel name, its location (lat, lon, state, city, street etc.), rating given by reviewer, review text and title and some more.\n",
    "\n",
    "Data was obtained at https://data.world/datafiniti/hotel-reviews and provided by Datafiniti's Business Database.\n"
   ]
  },
  {
   "cell_type": "code",
   "execution_count": 1,
   "metadata": {},
   "outputs": [
    {
     "name": "stderr",
     "output_type": "stream",
     "text": [
      "C:\\Users\\Michal\\Anaconda3\\lib\\site-packages\\h5py\\__init__.py:36: FutureWarning: Conversion of the second argument of issubdtype from `float` to `np.floating` is deprecated. In future, it will be treated as `np.float64 == np.dtype(float).type`.\n",
      "  from ._conv import register_converters as _register_converters\n",
      "Using TensorFlow backend.\n"
     ]
    }
   ],
   "source": [
    "import pandas as pd\n",
    "import numpy as np\n",
    "\n",
    "from langdetect import detect\n",
    "\n",
    "from sklearn.metrics import confusion_matrix, roc_curve, auc\n",
    "from sklearn.model_selection import train_test_split\n",
    "\n",
    "import matplotlib.pyplot as plt\n",
    "\n",
    "from collections import OrderedDict, Counter\n",
    "\n",
    "from nltk.corpus import stopwords\n",
    "from nltk.tokenize import word_tokenize, PunktSentenceTokenizer\n",
    "from nltk.stem import PorterStemmer, WordNetLemmatizer\n",
    "import nltk\n",
    "\n",
    "import string\n",
    "\n",
    "from sklearn.naive_bayes import MultinomialNB\n",
    "from sklearn.linear_model import LogisticRegression\n",
    "from sklearn.svm import SVC, LinearSVC\n",
    "\n",
    "from sklearn.feature_extraction.text import TfidfVectorizer, TfidfTransformer, CountVectorizer\n",
    "\n",
    "import keras\n",
    "from keras.preprocessing.text import Tokenizer\n",
    "from keras.models import Sequential, load_model\n",
    "from keras.layers import Dense, Flatten, Activation, Dropout\n",
    "from keras.layers.embeddings import Embedding\n",
    "from keras.utils import plot_model\n",
    "\n",
    "from IPython.display import display, Image\n",
    "\n",
    "#import pickle"
   ]
  },
  {
   "cell_type": "markdown",
   "metadata": {},
   "source": [
    "## Clean raw data"
   ]
  },
  {
   "cell_type": "markdown",
   "metadata": {},
   "source": [
    "Fist it is necesary to clean up raw data to dataset which could be further enhanced / adjusted for training."
   ]
  },
  {
   "cell_type": "code",
   "execution_count": 2,
   "metadata": {},
   "outputs": [],
   "source": [
    "raw_df = pd.read_csv('datafiniti-hotel-reviews_7282_1.csv')"
   ]
  },
  {
   "cell_type": "code",
   "execution_count": 3,
   "metadata": {},
   "outputs": [
    {
     "data": {
      "text/html": [
       "<div>\n",
       "<style scoped>\n",
       "    .dataframe tbody tr th:only-of-type {\n",
       "        vertical-align: middle;\n",
       "    }\n",
       "\n",
       "    .dataframe tbody tr th {\n",
       "        vertical-align: top;\n",
       "    }\n",
       "\n",
       "    .dataframe thead th {\n",
       "        text-align: right;\n",
       "    }\n",
       "</style>\n",
       "<table border=\"1\" class=\"dataframe\">\n",
       "  <thead>\n",
       "    <tr style=\"text-align: right;\">\n",
       "      <th></th>\n",
       "      <th>address</th>\n",
       "      <th>categories</th>\n",
       "      <th>city</th>\n",
       "      <th>country</th>\n",
       "      <th>latitude</th>\n",
       "      <th>longitude</th>\n",
       "      <th>name</th>\n",
       "      <th>postalcode</th>\n",
       "      <th>province</th>\n",
       "      <th>reviews_date</th>\n",
       "      <th>reviews_dateadded</th>\n",
       "      <th>reviews_dorecommend</th>\n",
       "      <th>reviews_id</th>\n",
       "      <th>reviews_rating</th>\n",
       "      <th>reviews_text</th>\n",
       "      <th>reviews_title</th>\n",
       "      <th>reviews_usercity</th>\n",
       "      <th>reviews_username</th>\n",
       "      <th>reviews_userprovince</th>\n",
       "      <th>location</th>\n",
       "    </tr>\n",
       "  </thead>\n",
       "  <tbody>\n",
       "    <tr>\n",
       "      <th>0</th>\n",
       "      <td>Riviera San Nicol 11/a</td>\n",
       "      <td>Hotels</td>\n",
       "      <td>Mableton</td>\n",
       "      <td>US</td>\n",
       "      <td>45.421611</td>\n",
       "      <td>12.376187</td>\n",
       "      <td>Hotel Russo Palace</td>\n",
       "      <td>30126</td>\n",
       "      <td>GA</td>\n",
       "      <td>2013-09-22T00:00:00Z</td>\n",
       "      <td>2016-10-24T00:00:25Z</td>\n",
       "      <td>NaN</td>\n",
       "      <td>NaN</td>\n",
       "      <td>4.0</td>\n",
       "      <td>Pleasant 10 min walk along the sea front to th...</td>\n",
       "      <td>Good location away from the crouds</td>\n",
       "      <td>NaN</td>\n",
       "      <td>Russ (kent)</td>\n",
       "      <td>NaN</td>\n",
       "      <td>POINT(12.376187 45.421611)</td>\n",
       "    </tr>\n",
       "    <tr>\n",
       "      <th>1</th>\n",
       "      <td>Riviera San Nicol 11/a</td>\n",
       "      <td>Hotels</td>\n",
       "      <td>Mableton</td>\n",
       "      <td>US</td>\n",
       "      <td>45.421611</td>\n",
       "      <td>12.376187</td>\n",
       "      <td>Hotel Russo Palace</td>\n",
       "      <td>30126</td>\n",
       "      <td>GA</td>\n",
       "      <td>2015-04-03T00:00:00Z</td>\n",
       "      <td>2016-10-24T00:00:25Z</td>\n",
       "      <td>NaN</td>\n",
       "      <td>NaN</td>\n",
       "      <td>5.0</td>\n",
       "      <td>Really lovely hotel. Stayed on the very top fl...</td>\n",
       "      <td>Great hotel with Jacuzzi bath!</td>\n",
       "      <td>NaN</td>\n",
       "      <td>A Traveler</td>\n",
       "      <td>NaN</td>\n",
       "      <td>POINT(12.376187 45.421611)</td>\n",
       "    </tr>\n",
       "    <tr>\n",
       "      <th>2</th>\n",
       "      <td>Riviera San Nicol 11/a</td>\n",
       "      <td>Hotels</td>\n",
       "      <td>Mableton</td>\n",
       "      <td>US</td>\n",
       "      <td>45.421611</td>\n",
       "      <td>12.376187</td>\n",
       "      <td>Hotel Russo Palace</td>\n",
       "      <td>30126</td>\n",
       "      <td>GA</td>\n",
       "      <td>2014-05-13T00:00:00Z</td>\n",
       "      <td>2016-10-24T00:00:25Z</td>\n",
       "      <td>NaN</td>\n",
       "      <td>NaN</td>\n",
       "      <td>5.0</td>\n",
       "      <td>Ett mycket bra hotell. Det som drog ner betyge...</td>\n",
       "      <td>Lugnt l��ge</td>\n",
       "      <td>NaN</td>\n",
       "      <td>Maud</td>\n",
       "      <td>NaN</td>\n",
       "      <td>POINT(12.376187 45.421611)</td>\n",
       "    </tr>\n",
       "    <tr>\n",
       "      <th>3</th>\n",
       "      <td>Riviera San Nicol 11/a</td>\n",
       "      <td>Hotels</td>\n",
       "      <td>Mableton</td>\n",
       "      <td>US</td>\n",
       "      <td>45.421611</td>\n",
       "      <td>12.376187</td>\n",
       "      <td>Hotel Russo Palace</td>\n",
       "      <td>30126</td>\n",
       "      <td>GA</td>\n",
       "      <td>2013-10-27T00:00:00Z</td>\n",
       "      <td>2016-10-24T00:00:25Z</td>\n",
       "      <td>NaN</td>\n",
       "      <td>NaN</td>\n",
       "      <td>5.0</td>\n",
       "      <td>We stayed here for four nights in October. The...</td>\n",
       "      <td>Good location on the Lido.</td>\n",
       "      <td>NaN</td>\n",
       "      <td>Julie</td>\n",
       "      <td>NaN</td>\n",
       "      <td>POINT(12.376187 45.421611)</td>\n",
       "    </tr>\n",
       "    <tr>\n",
       "      <th>4</th>\n",
       "      <td>Riviera San Nicol 11/a</td>\n",
       "      <td>Hotels</td>\n",
       "      <td>Mableton</td>\n",
       "      <td>US</td>\n",
       "      <td>45.421611</td>\n",
       "      <td>12.376187</td>\n",
       "      <td>Hotel Russo Palace</td>\n",
       "      <td>30126</td>\n",
       "      <td>GA</td>\n",
       "      <td>2015-03-05T00:00:00Z</td>\n",
       "      <td>2016-10-24T00:00:25Z</td>\n",
       "      <td>NaN</td>\n",
       "      <td>NaN</td>\n",
       "      <td>5.0</td>\n",
       "      <td>We stayed here for four nights in October. The...</td>\n",
       "      <td>������ ���������������</td>\n",
       "      <td>NaN</td>\n",
       "      <td>sungchul</td>\n",
       "      <td>NaN</td>\n",
       "      <td>POINT(12.376187 45.421611)</td>\n",
       "    </tr>\n",
       "  </tbody>\n",
       "</table>\n",
       "</div>"
      ],
      "text/plain": [
       "                  address categories      city country   latitude  longitude  \\\n",
       "0  Riviera San Nicol 11/a     Hotels  Mableton      US  45.421611  12.376187   \n",
       "1  Riviera San Nicol 11/a     Hotels  Mableton      US  45.421611  12.376187   \n",
       "2  Riviera San Nicol 11/a     Hotels  Mableton      US  45.421611  12.376187   \n",
       "3  Riviera San Nicol 11/a     Hotels  Mableton      US  45.421611  12.376187   \n",
       "4  Riviera San Nicol 11/a     Hotels  Mableton      US  45.421611  12.376187   \n",
       "\n",
       "                 name postalcode province          reviews_date  \\\n",
       "0  Hotel Russo Palace      30126       GA  2013-09-22T00:00:00Z   \n",
       "1  Hotel Russo Palace      30126       GA  2015-04-03T00:00:00Z   \n",
       "2  Hotel Russo Palace      30126       GA  2014-05-13T00:00:00Z   \n",
       "3  Hotel Russo Palace      30126       GA  2013-10-27T00:00:00Z   \n",
       "4  Hotel Russo Palace      30126       GA  2015-03-05T00:00:00Z   \n",
       "\n",
       "      reviews_dateadded  reviews_dorecommend  reviews_id  reviews_rating  \\\n",
       "0  2016-10-24T00:00:25Z                  NaN         NaN             4.0   \n",
       "1  2016-10-24T00:00:25Z                  NaN         NaN             5.0   \n",
       "2  2016-10-24T00:00:25Z                  NaN         NaN             5.0   \n",
       "3  2016-10-24T00:00:25Z                  NaN         NaN             5.0   \n",
       "4  2016-10-24T00:00:25Z                  NaN         NaN             5.0   \n",
       "\n",
       "                                        reviews_text  \\\n",
       "0  Pleasant 10 min walk along the sea front to th...   \n",
       "1  Really lovely hotel. Stayed on the very top fl...   \n",
       "2  Ett mycket bra hotell. Det som drog ner betyge...   \n",
       "3  We stayed here for four nights in October. The...   \n",
       "4  We stayed here for four nights in October. The...   \n",
       "\n",
       "                        reviews_title reviews_usercity reviews_username  \\\n",
       "0  Good location away from the crouds              NaN      Russ (kent)   \n",
       "1      Great hotel with Jacuzzi bath!              NaN       A Traveler   \n",
       "2                         Lugnt l��ge              NaN             Maud   \n",
       "3          Good location on the Lido.              NaN            Julie   \n",
       "4              ������ ���������������              NaN         sungchul   \n",
       "\n",
       "  reviews_userprovince                    location  \n",
       "0                  NaN  POINT(12.376187 45.421611)  \n",
       "1                  NaN  POINT(12.376187 45.421611)  \n",
       "2                  NaN  POINT(12.376187 45.421611)  \n",
       "3                  NaN  POINT(12.376187 45.421611)  \n",
       "4                  NaN  POINT(12.376187 45.421611)  "
      ]
     },
     "execution_count": 3,
     "metadata": {},
     "output_type": "execute_result"
    }
   ],
   "source": [
    "raw_df.head()"
   ]
  },
  {
   "cell_type": "code",
   "execution_count": 4,
   "metadata": {},
   "outputs": [
    {
     "data": {
      "text/plain": [
       "(35912, 20)"
      ]
     },
     "execution_count": 4,
     "metadata": {},
     "output_type": "execute_result"
    }
   ],
   "source": [
    "raw_df.shape"
   ]
  },
  {
   "cell_type": "markdown",
   "metadata": {},
   "source": [
    "Raw dataset has almost 36 thousands records and 20 columns."
   ]
  },
  {
   "cell_type": "markdown",
   "metadata": {},
   "source": [
    "Let's define focus columns - reviews_text which will be feature and reviews_rating which will be base for label."
   ]
  },
  {
   "cell_type": "code",
   "execution_count": 5,
   "metadata": {},
   "outputs": [],
   "source": [
    "focus_cols=[ 'reviews_rating' , 'reviews_text' ]"
   ]
  },
  {
   "cell_type": "markdown",
   "metadata": {},
   "source": [
    "Inspect ratings distribution."
   ]
  },
  {
   "cell_type": "code",
   "execution_count": 6,
   "metadata": {},
   "outputs": [
    {
     "data": {
      "text/plain": [
       "5.0     12671\n",
       "4.0      9755\n",
       "3.0      5708\n",
       "1.0      3068\n",
       "2.0      2979\n",
       "0.0       337\n",
       "10.0      101\n",
       "9.6        53\n",
       "9.2        49\n",
       "4.3        26\n",
       "4.8        25\n",
       "8.3        25\n",
       "7.9        24\n",
       "7.5        24\n",
       "8.8        24\n",
       "4.2        22\n",
       "3.4        17\n",
       "4.1        14\n",
       "6.3        14\n",
       "7.1        13\n",
       "4.5        13\n",
       "6.7        12\n",
       "5.4         9\n",
       "4.6         7\n",
       "3.1         7\n",
       "5.8         6\n",
       "4.4         6\n",
       "3.3         6\n",
       "4.7         6\n",
       "4.9         6\n",
       "2.4         4\n",
       "2.5         3\n",
       "3.8         3\n",
       "3.7         2\n",
       "3.2         2\n",
       "3.9         2\n",
       "2.8         1\n",
       "1.3         1\n",
       "9.5         1\n",
       "1.5         1\n",
       "6.0         1\n",
       "2.9         1\n",
       "7.0         1\n",
       "Name: reviews_rating, dtype: int64"
      ]
     },
     "execution_count": 6,
     "metadata": {},
     "output_type": "execute_result"
    }
   ],
   "source": [
    "raw_df.reviews_rating.value_counts()"
   ]
  },
  {
   "cell_type": "markdown",
   "metadata": {},
   "source": [
    "It is clear that there are more scales used for rating score this need to be addressed.\n",
    "\n",
    "Establish 5 major rating categories."
   ]
  },
  {
   "cell_type": "code",
   "execution_count": 7,
   "metadata": {},
   "outputs": [],
   "source": [
    "valid_reviews_rating=[ 1.0, 2.0, 3.0, 4.0, 5.0 ]"
   ]
  },
  {
   "cell_type": "markdown",
   "metadata": {},
   "source": [
    "Vast majority of records use 1-5 scale. Question is: could some values from interval <1,5> belong to sale 1-10?"
   ]
  },
  {
   "cell_type": "markdown",
   "metadata": {},
   "source": [
    "Let's drop columns with NaN and 0.0 values first."
   ]
  },
  {
   "cell_type": "code",
   "execution_count": 8,
   "metadata": {},
   "outputs": [],
   "source": [
    "raw_df.dropna(subset=['reviews_rating'], inplace=True)\n",
    "\n",
    "raw_df = raw_df[ raw_df['reviews_rating'] != 0.0 ]"
   ]
  },
  {
   "cell_type": "markdown",
   "metadata": {},
   "source": [
    "Now try to assign scaling into newly created column, pick ratings which are at first sight not member of 1-5 scale and assign to each record."
   ]
  },
  {
   "cell_type": "code",
   "execution_count": 9,
   "metadata": {},
   "outputs": [],
   "source": [
    "raw_df['rating_scale_'] = ''\n",
    "\n",
    "raw_df.loc[ ~raw_df.reviews_rating.isin( valid_reviews_rating ) ,'rating_scale_'] = '1-10'"
   ]
  },
  {
   "cell_type": "markdown",
   "metadata": {},
   "source": [
    "Create so called 'identity' helper column which will identify each hotel by combination of its parameters so it is possible to check how many rating scales were used for particular hotel (e.g. if 1-10 and other, this makes 2), if more than 1 then this is recognized as an issue and such records will be dropped."
   ]
  },
  {
   "cell_type": "code",
   "execution_count": 10,
   "metadata": {},
   "outputs": [],
   "source": [
    "def encode_identity( r ):\n",
    "    rtn = ''\n",
    "    identity_columns = [ 'city','country','latitude','longitude','name','postalcode','province' ]\n",
    "    for ic in identity_columns:\n",
    "        rtn += str( r[ic] )\n",
    "    return rtn\n",
    "\n",
    "raw_df['identity_'] = raw_df.apply( lambda r: encode_identity(r), axis=1)"
   ]
  },
  {
   "cell_type": "markdown",
   "metadata": {},
   "source": [
    "Get amount of scales used for each hotel ..."
   ]
  },
  {
   "cell_type": "code",
   "execution_count": 11,
   "metadata": {},
   "outputs": [],
   "source": [
    "df_check_various_scales = raw_df.groupby('identity_')[ ['rating_scale_'] ].nunique()"
   ]
  },
  {
   "cell_type": "markdown",
   "metadata": {},
   "source": [
    "... and exclude records for such hotels completely from dataset"
   ]
  },
  {
   "cell_type": "code",
   "execution_count": 12,
   "metadata": {},
   "outputs": [],
   "source": [
    "problematic_identities = df_check_various_scales[ df_check_various_scales.rating_scale_!=1 ].index.tolist()\n",
    "\n",
    "raw_df = raw_df [ ~raw_df['identity_'].isin( problematic_identities ) ]"
   ]
  },
  {
   "cell_type": "markdown",
   "metadata": {},
   "source": [
    "Keep only ratings with 1-5 scale."
   ]
  },
  {
   "cell_type": "code",
   "execution_count": 13,
   "metadata": {},
   "outputs": [],
   "source": [
    "raw_df = raw_df [ raw_df['reviews_rating'].isin( valid_reviews_rating ) ]"
   ]
  },
  {
   "cell_type": "markdown",
   "metadata": {},
   "source": [
    "Finally, extract only focus columns and drop any remaining N/A (missing) value."
   ]
  },
  {
   "cell_type": "code",
   "execution_count": 14,
   "metadata": {},
   "outputs": [],
   "source": [
    "raw_df = raw_df [ focus_cols ]\n",
    "\n",
    "#raw_df.isnull().sum()\n",
    "raw_df.dropna(subset=['reviews_text'], inplace=True)"
   ]
  },
  {
   "cell_type": "markdown",
   "metadata": {},
   "source": [
    "Now check if there are any reiews with multiple rating values, i.g. same exact text would be given 2.0 and 3.0. If such reviews are found then remove them."
   ]
  },
  {
   "cell_type": "code",
   "execution_count": 15,
   "metadata": {},
   "outputs": [],
   "source": [
    "df_check_various_ratings_for_same_text = raw_df.groupby('reviews_text')[ ['reviews_rating'] ].nunique()\n",
    "\n",
    "problematic_reviews = df_check_various_ratings_for_same_text[ df_check_various_ratings_for_same_text.reviews_rating!=1 ].index.tolist()\n",
    "\n",
    "raw_df = raw_df [ ~raw_df['reviews_text'].isin( problematic_reviews ) ]"
   ]
  },
  {
   "cell_type": "markdown",
   "metadata": {},
   "source": [
    "Only select review text with sufficient length, it also should not be too long. At least 100 characters is required and 600 characters at most allowed. This could be adjsuted in the future to potentally tweak classifier accuracy."
   ]
  },
  {
   "cell_type": "code",
   "execution_count": 16,
   "metadata": {},
   "outputs": [],
   "source": [
    "INTERVAL_L = 100\n",
    "INTERVAL_U = 600\n",
    "\n",
    "raw_df = raw_df[ ( raw_df['reviews_text'].str.len()> INTERVAL_L ) & ( raw_df['reviews_text'].str.len()<INTERVAL_U ) ]"
   ]
  },
  {
   "cell_type": "markdown",
   "metadata": {},
   "source": [
    "As explained at the beginning, when hotel get rating score 4 and 5 it is recommended for booking, or with ther words staying in. \n",
    "\n",
    "New column is defined with name 'stay_not_stay' with 1 and 0 values. 1 means stay, 0 not stay. This column is ultimate label for classifier model."
   ]
  },
  {
   "cell_type": "code",
   "execution_count": 17,
   "metadata": {},
   "outputs": [],
   "source": [
    "def encode_stay(r):\n",
    "    if r['reviews_rating'] in [ 1.0, 2.0, 3.0 ]:\n",
    "        return 0\n",
    "    return 1\n",
    "\n",
    "raw_df['stay_not_stay'] = raw_df.apply( lambda r: encode_stay(r), axis=1 )"
   ]
  },
  {
   "cell_type": "markdown",
   "metadata": {},
   "source": [
    "This classifier will work with English language only, hence dataset needs to exclude other languages."
   ]
  },
  {
   "cell_type": "code",
   "execution_count": 18,
   "metadata": {},
   "outputs": [],
   "source": [
    "def detect_lang(x):\n",
    "    try:\n",
    "        rtn = detect(x)\n",
    "    except:\n",
    "        rtn = ''\n",
    "    return rtn\n",
    "\n",
    "raw_df[\"review_language\"] = raw_df['reviews_text'].apply(lambda x: detect_lang(x))\n",
    "\n",
    "raw_df = raw_df[ raw_df[\"review_language\"]==\"en\" ]"
   ]
  },
  {
   "cell_type": "markdown",
   "metadata": {},
   "source": [
    "Finally, save data to CSV file which can be accessed anytime later."
   ]
  },
  {
   "cell_type": "code",
   "execution_count": 19,
   "metadata": {},
   "outputs": [],
   "source": [
    "raw_df.to_csv('datafiniti-hotel-reviews_7282_1_filtered.csv', index=False)"
   ]
  },
  {
   "cell_type": "markdown",
   "metadata": {},
   "source": [
    "## Preparing data for training"
   ]
  },
  {
   "cell_type": "markdown",
   "metadata": {},
   "source": [
    "Cleaned dataset needs further transformations so it is prepared for classifier training."
   ]
  },
  {
   "cell_type": "code",
   "execution_count": 20,
   "metadata": {},
   "outputs": [
    {
     "data": {
      "text/html": [
       "<div>\n",
       "<style scoped>\n",
       "    .dataframe tbody tr th:only-of-type {\n",
       "        vertical-align: middle;\n",
       "    }\n",
       "\n",
       "    .dataframe tbody tr th {\n",
       "        vertical-align: top;\n",
       "    }\n",
       "\n",
       "    .dataframe thead th {\n",
       "        text-align: right;\n",
       "    }\n",
       "</style>\n",
       "<table border=\"1\" class=\"dataframe\">\n",
       "  <thead>\n",
       "    <tr style=\"text-align: right;\">\n",
       "      <th></th>\n",
       "      <th>reviews_rating</th>\n",
       "      <th>reviews_text</th>\n",
       "      <th>stay_not_stay</th>\n",
       "      <th>review_language</th>\n",
       "    </tr>\n",
       "  </thead>\n",
       "  <tbody>\n",
       "    <tr>\n",
       "      <th>0</th>\n",
       "      <td>4.0</td>\n",
       "      <td>Pleasant 10 min walk along the sea front to th...</td>\n",
       "      <td>1</td>\n",
       "      <td>en</td>\n",
       "    </tr>\n",
       "    <tr>\n",
       "      <th>1</th>\n",
       "      <td>5.0</td>\n",
       "      <td>Really lovely hotel. Stayed on the very top fl...</td>\n",
       "      <td>1</td>\n",
       "      <td>en</td>\n",
       "    </tr>\n",
       "    <tr>\n",
       "      <th>2</th>\n",
       "      <td>5.0</td>\n",
       "      <td>We stayed here for four nights in October. The...</td>\n",
       "      <td>1</td>\n",
       "      <td>en</td>\n",
       "    </tr>\n",
       "    <tr>\n",
       "      <th>3</th>\n",
       "      <td>5.0</td>\n",
       "      <td>We stayed here for four nights in October. The...</td>\n",
       "      <td>1</td>\n",
       "      <td>en</td>\n",
       "    </tr>\n",
       "    <tr>\n",
       "      <th>4</th>\n",
       "      <td>5.0</td>\n",
       "      <td>We loved staying on the island of Lido! You ne...</td>\n",
       "      <td>1</td>\n",
       "      <td>en</td>\n",
       "    </tr>\n",
       "  </tbody>\n",
       "</table>\n",
       "</div>"
      ],
      "text/plain": [
       "   reviews_rating                                       reviews_text  \\\n",
       "0             4.0  Pleasant 10 min walk along the sea front to th...   \n",
       "1             5.0  Really lovely hotel. Stayed on the very top fl...   \n",
       "2             5.0  We stayed here for four nights in October. The...   \n",
       "3             5.0  We stayed here for four nights in October. The...   \n",
       "4             5.0  We loved staying on the island of Lido! You ne...   \n",
       "\n",
       "   stay_not_stay review_language  \n",
       "0              1              en  \n",
       "1              1              en  \n",
       "2              1              en  \n",
       "3              1              en  \n",
       "4              1              en  "
      ]
     },
     "execution_count": 20,
     "metadata": {},
     "output_type": "execute_result"
    }
   ],
   "source": [
    "data_filtered = pd.read_csv('datafiniti-hotel-reviews_7282_1_filtered.csv')\n",
    "\n",
    "data_filtered.head()"
   ]
  },
  {
   "cell_type": "markdown",
   "metadata": {},
   "source": [
    "Following adjustments in text are required:\n",
    "- remove stop words (e.g. a, in, the ...)\n",
    "- lemmatize words (i.e. remove inflectional endings and return the base of a word)\n",
    "- remove digits\n",
    "- remove punctuations\n",
    "- remove obvious words specific to domain (in this case hotel, room etc.)\n",
    "- set all words to lowercase"
   ]
  },
  {
   "cell_type": "code",
   "execution_count": 21,
   "metadata": {},
   "outputs": [],
   "source": [
    "stop_words = set(stopwords.words('english'))\n",
    "lemmatizer = WordNetLemmatizer()\n",
    "ps = PorterStemmer()\n",
    "\n",
    "def remove_stop_words(words):\n",
    "    global stop_words\n",
    "    return [w for w in words if w not in stop_words]\n",
    "\n",
    "def remove_punctuation_and_lower(s):\n",
    "    exclude = set(string.punctuation)\n",
    "    s = ''.join(ch for ch in s if ch not in exclude)\n",
    "    return s.lower()\n",
    "\n",
    "def remove_numbers(words):\n",
    "    return [ w for w in words if not str.isnumeric(w) ]\n",
    "\n",
    "def reconsturct_string(words):\n",
    "    return ' '.join(words)\n",
    "\n",
    "def lemmatize_words(words):    \n",
    "    return [ lemmatizer.lemmatize(w) for w in words ]\n",
    "\n",
    "'''\n",
    "def stem_words(words):\n",
    "    rtn = []\n",
    "    for w in words:\n",
    "        rtn.append(ps.stem(w))\n",
    "    return(rtn)\n",
    "'''\n",
    "\n",
    "def remove_domain_words(words):\n",
    "    domain_words = [ \"room\",  \"hotel\", \"stay\" ]\n",
    "    return [w for w in words if w not in domain_words]\n",
    "\n",
    "def transform_text_for_training(raw_str):\n",
    "    raw_str = remove_punctuation_and_lower(raw_str)\n",
    "    lst = word_tokenize(raw_str)\n",
    "    lst = remove_stop_words(lst)\n",
    "    lst = remove_numbers(lst)    \n",
    "    #lst = stem_words(lst)\n",
    "    lst = lemmatize_words(lst)\n",
    "    lst = remove_domain_words(lst)\n",
    "    return reconsturct_string(lst)"
   ]
  },
  {
   "cell_type": "code",
   "execution_count": 22,
   "metadata": {},
   "outputs": [
    {
     "data": {
      "text/html": [
       "<div>\n",
       "<style scoped>\n",
       "    .dataframe tbody tr th:only-of-type {\n",
       "        vertical-align: middle;\n",
       "    }\n",
       "\n",
       "    .dataframe tbody tr th {\n",
       "        vertical-align: top;\n",
       "    }\n",
       "\n",
       "    .dataframe thead th {\n",
       "        text-align: right;\n",
       "    }\n",
       "</style>\n",
       "<table border=\"1\" class=\"dataframe\">\n",
       "  <thead>\n",
       "    <tr style=\"text-align: right;\">\n",
       "      <th></th>\n",
       "      <th>reviews_rating</th>\n",
       "      <th>reviews_text</th>\n",
       "      <th>stay_not_stay</th>\n",
       "      <th>review_language</th>\n",
       "      <th>reviews_text2</th>\n",
       "    </tr>\n",
       "  </thead>\n",
       "  <tbody>\n",
       "    <tr>\n",
       "      <th>0</th>\n",
       "      <td>4.0</td>\n",
       "      <td>Pleasant 10 min walk along the sea front to th...</td>\n",
       "      <td>1</td>\n",
       "      <td>en</td>\n",
       "      <td>pleasant min walk along sea front water bus re...</td>\n",
       "    </tr>\n",
       "    <tr>\n",
       "      <th>1</th>\n",
       "      <td>5.0</td>\n",
       "      <td>Really lovely hotel. Stayed on the very top fl...</td>\n",
       "      <td>1</td>\n",
       "      <td>en</td>\n",
       "      <td>really lovely stayed top floor surprised jacuz...</td>\n",
       "    </tr>\n",
       "    <tr>\n",
       "      <th>2</th>\n",
       "      <td>5.0</td>\n",
       "      <td>We stayed here for four nights in October. The...</td>\n",
       "      <td>1</td>\n",
       "      <td>en</td>\n",
       "      <td>stayed four night october staff welcoming frie...</td>\n",
       "    </tr>\n",
       "    <tr>\n",
       "      <th>3</th>\n",
       "      <td>5.0</td>\n",
       "      <td>We stayed here for four nights in October. The...</td>\n",
       "      <td>1</td>\n",
       "      <td>en</td>\n",
       "      <td>stayed four night october staff welcoming frie...</td>\n",
       "    </tr>\n",
       "    <tr>\n",
       "      <th>4</th>\n",
       "      <td>5.0</td>\n",
       "      <td>We loved staying on the island of Lido! You ne...</td>\n",
       "      <td>1</td>\n",
       "      <td>en</td>\n",
       "      <td>loved staying island lido need take water veni...</td>\n",
       "    </tr>\n",
       "  </tbody>\n",
       "</table>\n",
       "</div>"
      ],
      "text/plain": [
       "   reviews_rating                                       reviews_text  \\\n",
       "0             4.0  Pleasant 10 min walk along the sea front to th...   \n",
       "1             5.0  Really lovely hotel. Stayed on the very top fl...   \n",
       "2             5.0  We stayed here for four nights in October. The...   \n",
       "3             5.0  We stayed here for four nights in October. The...   \n",
       "4             5.0  We loved staying on the island of Lido! You ne...   \n",
       "\n",
       "   stay_not_stay review_language  \\\n",
       "0              1              en   \n",
       "1              1              en   \n",
       "2              1              en   \n",
       "3              1              en   \n",
       "4              1              en   \n",
       "\n",
       "                                       reviews_text2  \n",
       "0  pleasant min walk along sea front water bus re...  \n",
       "1  really lovely stayed top floor surprised jacuz...  \n",
       "2  stayed four night october staff welcoming frie...  \n",
       "3  stayed four night october staff welcoming frie...  \n",
       "4  loved staying island lido need take water veni...  "
      ]
     },
     "execution_count": 22,
     "metadata": {},
     "output_type": "execute_result"
    }
   ],
   "source": [
    "data_filtered['reviews_text2'] = data_filtered['reviews_text'].apply(lambda x: transform_text_for_training(x))\n",
    "\n",
    "data_filtered.head()"
   ]
  },
  {
   "cell_type": "code",
   "execution_count": 23,
   "metadata": {},
   "outputs": [],
   "source": [
    "data_filtered.to_csv('datafiniti-hotel-reviews_7282_1_preprocessed.csv', index=False)"
   ]
  },
  {
   "cell_type": "code",
   "execution_count": 24,
   "metadata": {},
   "outputs": [],
   "source": [
    "df_clean = pd.read_csv('datafiniti-hotel-reviews_7282_1_preprocessed.csv')"
   ]
  },
  {
   "cell_type": "markdown",
   "metadata": {},
   "source": [
    "Let's check on distribution of data to detect potential skew which could mess up training."
   ]
  },
  {
   "cell_type": "code",
   "execution_count": 25,
   "metadata": {
    "scrolled": false
   },
   "outputs": [
    {
     "data": {
      "image/png": "[encoded data removed]",
      "text/plain": [
       "<Figure size 432x432 with 1 Axes>"
      ]
     },
     "metadata": {},
     "output_type": "display_data"
    }
   ],
   "source": [
    "fig = plt.figure(figsize=(6,6))\n",
    "\n",
    "df_clean.groupby('stay_not_stay').reviews_rating.count().plot.bar(ylim=0)\n",
    "plt.show()"
   ]
  },
  {
   "cell_type": "markdown",
   "metadata": {},
   "source": [
    "There are twice as much positive than negative answers, so there is risk of bias which should be addressed e.g. by resampling of training dataset and pick same amount from each group."
   ]
  },
  {
   "cell_type": "code",
   "execution_count": 26,
   "metadata": {},
   "outputs": [],
   "source": [
    "data_all = df_clean.reindex( np.random.permutation(df_clean.index) )\n",
    "\n",
    "data_0 = data_all[ data_all[\"stay_not_stay\"]== 0 ]\n",
    "data_1 = data_all[ data_all[\"stay_not_stay\"]== 1 ][:len(data_0)]\n",
    "\n",
    "data = pd.concat( [data_0, data_1], axis=0)\n",
    "data = data.reindex( np.random.permutation(data.index) )"
   ]
  },
  {
   "cell_type": "markdown",
   "metadata": {},
   "source": [
    "Build all features and labels repository."
   ]
  },
  {
   "cell_type": "code",
   "execution_count": 27,
   "metadata": {},
   "outputs": [],
   "source": [
    "tfidf_transformer = TfidfVectorizer(\n",
    "    sublinear_tf=True, \n",
    "    min_df=5, # word must appear at least in 5 documents\n",
    "    norm='l2')\n",
    "\n",
    "features = tfidf_transformer.fit_transform(data.reviews_text2).toarray()\n",
    "labels = data.stay_not_stay"
   ]
  },
  {
   "cell_type": "markdown",
   "metadata": {},
   "source": [
    "Split data to training and testing sets."
   ]
  },
  {
   "cell_type": "code",
   "execution_count": 28,
   "metadata": {},
   "outputs": [],
   "source": [
    "X_train, X_test, y_train, y_test = train_test_split( data.reviews_text2, labels, random_state = 32)"
   ]
  },
  {
   "cell_type": "markdown",
   "metadata": {},
   "source": [
    "Transform X sets, i.e. feature sets with TFIDF vectorizer in comvination with Count vectorizer.\n",
    "\n",
    "This would transform raw text in form of a words separated by space to sparse matrix where each word is represented by numeric value, TFIDF is short for frequency–inverse document frequency and so it assigns score to each word based on its occurencies in given 'document' or text text review.\n",
    "\n",
    "Text features need to use same fit of Count vectorizer to ensure same length of sparse matrix as train set."
   ]
  },
  {
   "cell_type": "code",
   "execution_count": 29,
   "metadata": {},
   "outputs": [],
   "source": [
    "count_vect = CountVectorizer()\n",
    "tfidf_transformer = TfidfTransformer()\n",
    "\n",
    "X_train_counts = count_vect.fit_transform(X_train)\n",
    "X_train = tfidf_transformer.fit_transform(X_train_counts)\n",
    "\n",
    "X_test_counts = count_vect.transform(X_test)\n",
    "X_test = tfidf_transformer.fit_transform(X_test_counts)"
   ]
  },
  {
   "cell_type": "markdown",
   "metadata": {},
   "source": [
    "## Classifier training"
   ]
  },
  {
   "cell_type": "markdown",
   "metadata": {},
   "source": [
    "Data is ready for training, question is which algorithm is the best, or would it be combination of multiple?\n",
    "\n",
    "For text classification where feature is basically many feature columns (as numerical repre. of text) multinomial Naive Bayes could work, as well as Support Vetor Machines and Logistic Regressor.\n",
    "\n",
    "Each performs well, but gives slightlty different results and so combined classifier is created which will work on voting principle. Every classifier wil put its decission (vote) on certain feature set, and classification with the most votes is chosen as final one."
   ]
  },
  {
   "cell_type": "markdown",
   "metadata": {},
   "source": [
    "### Combined classifier (Naive Bayes, Logistic Regression, SVMs)"
   ]
  },
  {
   "cell_type": "code",
   "execution_count": 30,
   "metadata": {},
   "outputs": [],
   "source": [
    "MNB_classifier = MultinomialNB().fit(X_train, y_train)"
   ]
  },
  {
   "cell_type": "code",
   "execution_count": 31,
   "metadata": {},
   "outputs": [
    {
     "data": {
      "text/plain": [
       "SVC(C=1.0, cache_size=800, class_weight=None, coef0=0.0,\n",
       "  decision_function_shape='ovr', degree=3, gamma='auto', kernel='rbf',\n",
       "  max_iter=-1, probability=False, random_state=None, shrinking=True,\n",
       "  tol=0.001, verbose=False)"
      ]
     },
     "execution_count": 31,
     "metadata": {},
     "output_type": "execute_result"
    }
   ],
   "source": [
    "SVC_classifier = SVC( cache_size=800 )\n",
    "SVC_classifier.fit(X_train, y_train)"
   ]
  },
  {
   "cell_type": "code",
   "execution_count": 32,
   "metadata": {},
   "outputs": [
    {
     "data": {
      "text/plain": [
       "LinearSVC(C=1.0, class_weight=None, dual=True, fit_intercept=True,\n",
       "     intercept_scaling=1, loss='squared_hinge', max_iter=1000,\n",
       "     multi_class='ovr', penalty='l2', random_state=None, tol=0.0001,\n",
       "     verbose=0)"
      ]
     },
     "execution_count": 32,
     "metadata": {},
     "output_type": "execute_result"
    }
   ],
   "source": [
    "LinearSVC_classifier = LinearSVC()\n",
    "LinearSVC_classifier.fit(X_train, y_train)"
   ]
  },
  {
   "cell_type": "code",
   "execution_count": 33,
   "metadata": {},
   "outputs": [
    {
     "data": {
      "text/plain": [
       "LogisticRegression(C=1.0, class_weight=None, dual=False, fit_intercept=True,\n",
       "          intercept_scaling=1, max_iter=100, multi_class='ovr', n_jobs=8,\n",
       "          penalty='l2', random_state=None, solver='sag', tol=0.0001,\n",
       "          verbose=0, warm_start=False)"
      ]
     },
     "execution_count": 33,
     "metadata": {},
     "output_type": "execute_result"
    }
   ],
   "source": [
    "LR_classifier = LogisticRegression(n_jobs=8, solver='sag')\n",
    "LR_classifier.fit(X_train, y_train)"
   ]
  },
  {
   "cell_type": "code",
   "execution_count": 34,
   "metadata": {},
   "outputs": [],
   "source": [
    "class combinedClassifier():\n",
    "    \n",
    "    def __init__(self, *classifiers):\n",
    "        self._classifiers = classifiers\n",
    "        \n",
    "    def classify_one(self, features):\n",
    "        votes = []\n",
    "        for c in self._classifiers:\n",
    "            v = c.predict(features)   \n",
    "            \n",
    "            votes.append(v[0])        \n",
    "      \n",
    "        mc = Counter(votes).most_common(1)[0]\n",
    "\n",
    "        return mc[0]\n",
    "    \n",
    "    def predict(self, features):\n",
    "        predictions_calc = np.zeros( ( features.shape[0], len(self._classifiers) ) )\n",
    "        rtn = np.zeros( features.shape[0] )\n",
    "        for i, c in enumerate( self._classifiers ):\n",
    "            predictions_calc[:,i] = c.predict(features)\n",
    "        \n",
    "        for i in range(predictions_calc.shape[0]):\n",
    "            mc = Counter( predictions_calc[i] ).most_common(1)[0]\n",
    "            rtn[i] = mc[0]\n",
    "            \n",
    "        return rtn"
   ]
  },
  {
   "cell_type": "code",
   "execution_count": 35,
   "metadata": {},
   "outputs": [],
   "source": [
    "cc = combinedClassifier( \n",
    "    MNB_classifier,\n",
    "    SVC_classifier,\n",
    "    LR_classifier,\n",
    "    LinearSVC_classifier\n",
    ")"
   ]
  },
  {
   "cell_type": "markdown",
   "metadata": {},
   "source": [
    "Now predict / classify on test feature set."
   ]
  },
  {
   "cell_type": "code",
   "execution_count": 36,
   "metadata": {},
   "outputs": [],
   "source": [
    "y_pred = cc.predict(X_test)"
   ]
  },
  {
   "cell_type": "markdown",
   "metadata": {},
   "source": [
    "Besides algorithms mentioned above, there could another approach taken - deep learning, or use of neural network."
   ]
  },
  {
   "cell_type": "markdown",
   "metadata": {},
   "source": [
    "## Deep learning"
   ]
  },
  {
   "cell_type": "markdown",
   "metadata": {},
   "source": [
    "Data prep. follows the same principle as before - TFIDF vectorization is used for features (however different algorithm is used) and data is split to train & test, however, in this case vocabulary for tokenization is cut to 6000 words only, i.e. vocabulary is smaller, hence feature matrix is smaller.\n",
    "\n",
    "Various iterations of training proved that neural network gives better metrics (precission, recall) if full data set is used, and so no resampling is done in this case."
   ]
  },
  {
   "cell_type": "code",
   "execution_count": 37,
   "metadata": {},
   "outputs": [],
   "source": [
    "df_clean = df_clean.reindex( np.random.permutation(df_clean.index) )"
   ]
  },
  {
   "cell_type": "code",
   "execution_count": 38,
   "metadata": {},
   "outputs": [],
   "source": [
    "# lets take 80% data as training and remaining 20% for test.\n",
    "TRAIN_SIZE = int(len(data) * .8)\n",
    "\n",
    "train_features = df_clean['reviews_text2'][:TRAIN_SIZE]\n",
    "train_labels = df_clean['stay_not_stay'][:TRAIN_SIZE]\n",
    " \n",
    "test_features = df_clean['reviews_text2'][TRAIN_SIZE:]\n",
    "test_labels = df_clean['stay_not_stay'][TRAIN_SIZE:]"
   ]
  },
  {
   "cell_type": "code",
   "execution_count": 39,
   "metadata": {},
   "outputs": [],
   "source": [
    "VOCAB_SIZE = 6000\n",
    " \n",
    "tokenizer = Tokenizer( num_words = VOCAB_SIZE )\n",
    "tokenizer.fit_on_texts(train_features)\n",
    " \n",
    "X_train2 = tokenizer.texts_to_matrix(train_features, mode='tfidf')\n",
    "X_test2 = tokenizer.texts_to_matrix(test_features, mode='tfidf')\n",
    " \n",
    "y_train2 = train_labels\n",
    "y_test2 = test_labels"
   ]
  },
  {
   "cell_type": "markdown",
   "metadata": {},
   "source": [
    "Let's look into vocabulary which will be used for training of neural network a bit closer."
   ]
  },
  {
   "cell_type": "code",
   "execution_count": 40,
   "metadata": {},
   "outputs": [
    {
     "data": {
      "text/html": [
       "<div>\n",
       "<style scoped>\n",
       "    .dataframe tbody tr th:only-of-type {\n",
       "        vertical-align: middle;\n",
       "    }\n",
       "\n",
       "    .dataframe tbody tr th {\n",
       "        vertical-align: top;\n",
       "    }\n",
       "\n",
       "    .dataframe thead th {\n",
       "        text-align: right;\n",
       "    }\n",
       "</style>\n",
       "<table border=\"1\" class=\"dataframe\">\n",
       "  <thead>\n",
       "    <tr style=\"text-align: right;\">\n",
       "      <th></th>\n",
       "      <th>word</th>\n",
       "      <th>vol</th>\n",
       "    </tr>\n",
       "  </thead>\n",
       "  <tbody>\n",
       "    <tr>\n",
       "      <th>242</th>\n",
       "      <td>staff</td>\n",
       "      <td>3888</td>\n",
       "    </tr>\n",
       "    <tr>\n",
       "      <th>127</th>\n",
       "      <td>clean</td>\n",
       "      <td>3839</td>\n",
       "    </tr>\n",
       "    <tr>\n",
       "      <th>22</th>\n",
       "      <td>great</td>\n",
       "      <td>3340</td>\n",
       "    </tr>\n",
       "    <tr>\n",
       "      <th>94</th>\n",
       "      <td>breakfast</td>\n",
       "      <td>3277</td>\n",
       "    </tr>\n",
       "    <tr>\n",
       "      <th>2</th>\n",
       "      <td>nice</td>\n",
       "      <td>3126</td>\n",
       "    </tr>\n",
       "    <tr>\n",
       "      <th>16</th>\n",
       "      <td>good</td>\n",
       "      <td>2644</td>\n",
       "    </tr>\n",
       "    <tr>\n",
       "      <th>227</th>\n",
       "      <td>night</td>\n",
       "      <td>2196</td>\n",
       "    </tr>\n",
       "    <tr>\n",
       "      <th>36</th>\n",
       "      <td>bed</td>\n",
       "      <td>2191</td>\n",
       "    </tr>\n",
       "    <tr>\n",
       "      <th>278</th>\n",
       "      <td>friendly</td>\n",
       "      <td>2140</td>\n",
       "    </tr>\n",
       "    <tr>\n",
       "      <th>249</th>\n",
       "      <td>would</td>\n",
       "      <td>2080</td>\n",
       "    </tr>\n",
       "  </tbody>\n",
       "</table>\n",
       "</div>"
      ],
      "text/plain": [
       "          word   vol\n",
       "242      staff  3888\n",
       "127      clean  3839\n",
       "22       great  3340\n",
       "94   breakfast  3277\n",
       "2         nice  3126\n",
       "16        good  2644\n",
       "227      night  2196\n",
       "36         bed  2191\n",
       "278   friendly  2140\n",
       "249      would  2080"
      ]
     },
     "execution_count": 40,
     "metadata": {},
     "output_type": "execute_result"
    }
   ],
   "source": [
    "wc = tokenizer.word_counts\n",
    "\n",
    "df_vobac = OrderedDict([ \n",
    "         (  'word', list(wc.keys())  ),\n",
    "         (  'vol', list(wc.values()) )\n",
    "        ])\n",
    "df_vobac = pd.DataFrame.from_dict(df_vobac)\n",
    "\n",
    "df_vobac_sorted = df_vobac.sort_values('vol',ascending=False)\n",
    "df_vobac_sorted.head(10)"
   ]
  },
  {
   "cell_type": "markdown",
   "metadata": {},
   "source": [
    "Dense neural network with two hidden layers and one embeddig is chosen. \n",
    "Embedding could be obtain from other pre-trained models for English language, but it could be also trained with specific dataset as in this case. Embedding maps relationship between words in multidimensional linear space and thus help neural network to understand distance in meaning of spec. words."
   ]
  },
  {
   "cell_type": "code",
   "execution_count": 41,
   "metadata": {},
   "outputs": [],
   "source": [
    "def define_nn ():\n",
    "    \n",
    "    Max_input_length = VOCAB_SIZE\n",
    "    \n",
    "    model = Sequential()\n",
    "\n",
    "    model.add( Embedding(10000, 32, input_length=Max_input_length ) )\n",
    "    model.add( Flatten() )\n",
    "    model.add( Dropout(0.3))\n",
    "\n",
    "    model.add( Dense(128) )\n",
    "    model.add( Activation('relu') )\n",
    "    model.add( Dropout(0.3) )\n",
    "\n",
    "    model.add( Dense(16) )\n",
    "    model.add( Activation('relu') )   \n",
    "\n",
    "    #model.add(Dense( 5, activation='softmax')) #softmax is good for more classes\n",
    "    model.add(Dense( 1, activation='sigmoid')) #sigmoid for binary\n",
    "\n",
    "    return model"
   ]
  },
  {
   "cell_type": "markdown",
   "metadata": {},
   "source": [
    "Let's see model summary, and amount of total parameters which will be trained."
   ]
  },
  {
   "cell_type": "code",
   "execution_count": 42,
   "metadata": {},
   "outputs": [
    {
     "name": "stdout",
     "output_type": "stream",
     "text": [
      "_________________________________________________________________\n",
      "Layer (type)                 Output Shape              Param #   \n",
      "=================================================================\n",
      "embedding_1 (Embedding)      (None, 6000, 32)          320000    \n",
      "_________________________________________________________________\n",
      "flatten_1 (Flatten)          (None, 192000)            0         \n",
      "_________________________________________________________________\n",
      "dropout_1 (Dropout)          (None, 192000)            0         \n",
      "_________________________________________________________________\n",
      "dense_1 (Dense)              (None, 128)               24576128  \n",
      "_________________________________________________________________\n",
      "activation_1 (Activation)    (None, 128)               0         \n",
      "_________________________________________________________________\n",
      "dropout_2 (Dropout)          (None, 128)               0         \n",
      "_________________________________________________________________\n",
      "dense_2 (Dense)              (None, 16)                2064      \n",
      "_________________________________________________________________\n",
      "activation_2 (Activation)    (None, 16)                0         \n",
      "_________________________________________________________________\n",
      "dense_3 (Dense)              (None, 1)                 17        \n",
      "=================================================================\n",
      "Total params: 24,898,209\n",
      "Trainable params: 24,898,209\n",
      "Non-trainable params: 0\n",
      "_________________________________________________________________\n",
      "None\n"
     ]
    },
    {
     "data": {
      "image/png": "[encoded data removed]",
      "text/plain": [
       "<IPython.core.display.Image object>"
      ]
     },
     "metadata": {},
     "output_type": "display_data"
    }
   ],
   "source": [
    "model = define_nn()\n",
    "print(model.summary())\n",
    "\n",
    "plot_model(model, to_file='nn_visual.png')\n",
    "img = Image(filename='nn_visual.png')\n",
    "display(img)"
   ]
  },
  {
   "cell_type": "code",
   "execution_count": 43,
   "metadata": {},
   "outputs": [
    {
     "name": "stdout",
     "output_type": "stream",
     "text": [
      "Train on 9186 samples, validate on 2297 samples\n",
      "Epoch 1/4\n",
      "9186/9186 [==============================] - 13s 1ms/step - loss: 0.6870 - binary_accuracy: 0.6288 - val_loss: 0.6457 - val_binary_accuracy: 0.6556\n",
      "Epoch 2/4\n",
      "9186/9186 [==============================] - 8s 917us/step - loss: 0.6404 - binary_accuracy: 0.6482 - val_loss: 0.6112 - val_binary_accuracy: 0.6556\n",
      "Epoch 3/4\n",
      "9186/9186 [==============================] - 8s 920us/step - loss: 0.5090 - binary_accuracy: 0.7536 - val_loss: 0.4172 - val_binary_accuracy: 0.8163\n",
      "Epoch 4/4\n",
      "9186/9186 [==============================] - 8s 918us/step - loss: 0.3939 - binary_accuracy: 0.8340 - val_loss: 0.3841 - val_binary_accuracy: 0.8341\n"
     ]
    }
   ],
   "source": [
    "model.compile( loss='binary_crossentropy', optimizer='adam',metrics=['binary_accuracy'] )\n",
    "\n",
    "history = model.fit(  X_train2, y_train2,\n",
    "                    batch_size=100,\n",
    "                    epochs=4,\n",
    "                    verbose=1,\n",
    "                    validation_split=0.2\n",
    "                   )"
   ]
  },
  {
   "cell_type": "markdown",
   "metadata": {},
   "source": [
    "Quick evaluation before running full metrics."
   ]
  },
  {
   "cell_type": "code",
   "execution_count": 44,
   "metadata": {},
   "outputs": [
    {
     "name": "stdout",
     "output_type": "stream",
     "text": [
      "9019/9019 [==============================] - 1s 133us/step\n",
      "Accuracy: 0.829581992604249\n"
     ]
    }
   ],
   "source": [
    "score = model.evaluate([ X_test2 ], y_test2, batch_size=100, verbose=1) \n",
    "print('Accuracy:', score[1]) "
   ]
  },
  {
   "cell_type": "markdown",
   "metadata": {},
   "source": [
    "Predict values on test features."
   ]
  },
  {
   "cell_type": "code",
   "execution_count": 45,
   "metadata": {},
   "outputs": [
    {
     "name": "stdout",
     "output_type": "stream",
     "text": [
      "9019/9019 [==============================] - 2s 169us/step\n"
     ]
    }
   ],
   "source": [
    "predictions = model.predict([X_test2], verbose=1)\n",
    "y_pred2 = [ 1 if x>0.5 else 0 for x in predictions  ]\n",
    "\n",
    "#diffs = abs( y_pred2 - test_labels.values )\n",
    "#print ('Accuracy:', 1 - diffs.sum() / len(predictions))"
   ]
  },
  {
   "cell_type": "markdown",
   "metadata": {},
   "source": [
    "## Evaluate model"
   ]
  },
  {
   "cell_type": "markdown",
   "metadata": {},
   "source": [
    "Let's see how model performed.\n",
    "\n",
    "As this is classification problem, metrics such as confusion matrix, recall, precission, ROC/AUC curve are chosen for evaluation. \n",
    "- Recall answers question about what proportion of actual positives was identified correctly.\n",
    "- Precission measures proportion of positive identifications beiging actually correct.\n",
    "- AUC represents the probability that a random positive example is positioned to the right of a random negative example on sorted scale of prbabilities, it ranges value on interval from 0 to 1, model whose predictions are 100% wrong has an AUC of 0.0 one whose predictions are 100% correct has an AUC of 1.0.\n",
    "\n",
    "In context of the problem, classifying hotel as positive while in fact being negative is worst option, and so ideal solution would show high precission or at least both metics being in balance."
   ]
  },
  {
   "cell_type": "code",
   "execution_count": 59,
   "metadata": {},
   "outputs": [],
   "source": [
    "def classifier_evaluate(y_test, y_pred):\n",
    "    \n",
    "    cm = confusion_matrix(y_test, y_pred )\n",
    "    df_cm = pd.DataFrame(cm, index = ['not stay','stay'], columns = ['pred: not stay','pred: stay'] )\n",
    "    \n",
    "    print( 'Confusion matrix:' )\n",
    "    print( df_cm )\n",
    "    print(' ')\n",
    "    \n",
    "    tn, fp, fn, tp =  confusion_matrix(y_test, y_pred ).ravel()\n",
    "    recall = tp / (tp + fn)\n",
    "    precission = tp / (tp + fp)\n",
    "    accuracy = (tp + tn) / len(y_test)\n",
    "    \n",
    "    print('Classifier metrics:')\n",
    "    print ('TRUE negatives', tn,'/ FALSE positives', fp, '/ FALSE negatives', fn,'/ TRUE positives', tp ) \n",
    "    print('Recall %', round(recall*100,2)) \n",
    "    print('Precission %', round(precission*100,2))\n",
    "    print('Accuracy %', round(accuracy*100,2))\n",
    "    \n",
    "def show_roc_curve(y_test, y_pred):\n",
    "\n",
    "    y_test_ = np.array( pd.get_dummies( pd.Series( y_test ) ) )\n",
    "    y_pred_ = np.array( pd.get_dummies( pd.Series( y_pred ) ) )\n",
    "\n",
    "    fpr = dict()\n",
    "    tpr = dict()\n",
    "    roc_auc = dict()\n",
    "\n",
    "    n_class = 2\n",
    "    for i in range(n_class):\n",
    "        fpr[i], tpr[i], _ = roc_curve(y_test_[:, i], y_pred_[:, i])\n",
    "        roc_auc[i] = auc(fpr[i], tpr[i])\n",
    "\n",
    "    # ROC curve and ROC area\n",
    "    fpr[\"m\"], tpr[\"m\"], _ = roc_curve(y_test_.ravel(), y_pred_.ravel())\n",
    "    roc_auc[\"m\"] = auc(fpr[\"m\"], tpr[\"m\"])\n",
    "\n",
    "    plt.figure(figsize = (8,8))\n",
    "    plt.plot(fpr[1], tpr[1], color='red', label='ROC curve (area %0.2f)' % roc_auc[1])\n",
    "    plt.plot([0, 1], [0, 1], color='navy')\n",
    "\n",
    "    plt.xlim([0.0, 1.0])\n",
    "    plt.ylim([0.0, 1.0])\n",
    "    plt.xlabel('False Positive Rate')\n",
    "    plt.ylabel('True Positive Rate')\n",
    "    plt.title('ROC')\n",
    "    plt.legend()\n",
    "\n",
    "    plt.show()"
   ]
  },
  {
   "cell_type": "markdown",
   "metadata": {},
   "source": [
    "## Results"
   ]
  },
  {
   "cell_type": "markdown",
   "metadata": {},
   "source": [
    "Results from combined model (MNB, LR, SVMs)"
   ]
  },
  {
   "cell_type": "code",
   "execution_count": 60,
   "metadata": {},
   "outputs": [
    {
     "name": "stdout",
     "output_type": "stream",
     "text": [
      "Confusion matrix:\n",
      "          pred: not stay  pred: stay\n",
      "not stay            1540         231\n",
      "stay                 346        1472\n",
      " \n",
      "Classifier metrics:\n",
      "TRUE negatives 1540 / FALSE positives 231 / FALSE negatives 346 / TRUE positives 1472\n",
      "Recall % 80.97\n",
      "Precission % 86.44\n",
      "Accuracy % 83.92\n"
     ]
    },
    {
     "data": {
      "image/png": "[encoded data removed]",
      "text/plain": [
       "<Figure size 576x576 with 1 Axes>"
      ]
     },
     "metadata": {},
     "output_type": "display_data"
    }
   ],
   "source": [
    "classifier_evaluate(y_test, y_pred)\n",
    "\n",
    "show_roc_curve(y_test, y_pred)"
   ]
  },
  {
   "cell_type": "markdown",
   "metadata": {},
   "source": [
    "Results from deep learning model."
   ]
  },
  {
   "cell_type": "code",
   "execution_count": 61,
   "metadata": {},
   "outputs": [
    {
     "name": "stdout",
     "output_type": "stream",
     "text": [
      "Confusion matrix:\n",
      "          pred: not stay  pred: stay\n",
      "not stay            2219         956\n",
      "stay                 581        5263\n",
      " \n",
      "Classifier metrics:\n",
      "TRUE negatives 2219 / FALSE positives 956 / FALSE negatives 581 / TRUE positives 5263\n",
      "Recall % 90.06\n",
      "Precission % 84.63\n",
      "Accuracy % 82.96\n"
     ]
    },
    {
     "data": {
      "image/png": "[encoded data removed]",
      "text/plain": [
       "<Figure size 576x576 with 1 Axes>"
      ]
     },
     "metadata": {},
     "output_type": "display_data"
    }
   ],
   "source": [
    "classifier_evaluate(y_test2, y_pred2)\n",
    "\n",
    "show_roc_curve(y_test2, y_pred2)"
   ]
  },
  {
   "cell_type": "markdown",
   "metadata": {},
   "source": [
    "By comparing both solutions, it is clear that deep learning model performed better despite of slightly lower accruacy as it provided higher precission."
   ]
  }
 ],
 "metadata": {
  "kernelspec": {
   "display_name": "Python 3",
   "language": "python",
   "name": "python3"
  },
  "language_info": {
   "codemirror_mode": {
    "name": "ipython",
    "version": 3
   },
   "file_extension": ".py",
   "mimetype": "text/x-python",
   "name": "python",
   "nbconvert_exporter": "python",
   "pygments_lexer": "ipython3",
   "version": "3.6.5"
  }
 },
 "nbformat": 4,
 "nbformat_minor": 2
}
